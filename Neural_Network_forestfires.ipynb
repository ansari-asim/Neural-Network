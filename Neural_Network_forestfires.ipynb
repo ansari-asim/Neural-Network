{
 "cells": [
  {
   "cell_type": "code",
   "execution_count": null,
   "id": "9f15d883",
   "metadata": {},
   "outputs": [],
   "source": [
    "import pandas as pd\n",
    "import numpy as np\n",
    "from numpy.random import seed\n",
    "import seaborn as sns\n",
    "import matplotlib.pyplot as plt\n",
    "%matplotlib inline\n",
    "import random\n",
    "from sklearn.model_selection import train_test_split\n",
    "import tensorflow as tf\n",
    "from tensorflow import keras\n",
    "from tensorflow.keras import Sequential\n",
    "from tensorflow.keras.layers import Dense\n",
    "from tensorflow.keras.optimizers import RMSprop"
   ]
  },
  {
   "cell_type": "code",
   "execution_count": null,
   "id": "71bfc51e",
   "metadata": {},
   "outputs": [],
   "source": [
    "data=pd.read_csv(\"https://drive.google.com/file/d/1CfA4zX4b9VB1syEX-ET0rlCJWBTreSAA/view?usp=share_link\")\n",
    "data"
   ]
  },
  {
   "cell_type": "code",
   "execution_count": null,
   "id": "ddc79b35",
   "metadata": {},
   "outputs": [],
   "source": [
    "data.columns"
   ]
  },
  {
   "cell_type": "code",
   "execution_count": null,
   "id": "1e85ad2f",
   "metadata": {},
   "outputs": [],
   "source": [
    "data.shape"
   ]
  },
  {
   "cell_type": "code",
   "execution_count": null,
   "id": "bd6c9f05",
   "metadata": {},
   "outputs": [],
   "source": [
    "data.dtypes"
   ]
  },
  {
   "cell_type": "code",
   "execution_count": null,
   "id": "3021620c",
   "metadata": {},
   "outputs": [],
   "source": [
    "data.isnull().any()"
   ]
  },
  {
   "cell_type": "code",
   "execution_count": null,
   "id": "b87fb979",
   "metadata": {},
   "outputs": [],
   "source": [
    "data.info()"
   ]
  },
  {
   "cell_type": "code",
   "execution_count": null,
   "id": "38553a6a",
   "metadata": {},
   "outputs": [],
   "source": [
    "data.describe().T"
   ]
  },
  {
   "cell_type": "code",
   "execution_count": null,
   "id": "25295aac",
   "metadata": {},
   "outputs": [],
   "source": [
    "data['size_category'].value_counts()"
   ]
  },
  {
   "cell_type": "markdown",
   "id": "2d8733e6",
   "metadata": {},
   "source": [
    "### Data Visualization"
   ]
  },
  {
   "cell_type": "code",
   "execution_count": null,
   "id": "e1918184",
   "metadata": {},
   "outputs": [],
   "source": [
    "sns.barplot(data=data)"
   ]
  },
  {
   "cell_type": "code",
   "execution_count": null,
   "id": "9f1eb7ef",
   "metadata": {},
   "outputs": [],
   "source": [
    "sns.boxplot(data=data)"
   ]
  },
  {
   "cell_type": "code",
   "execution_count": null,
   "id": "7f58ddfb",
   "metadata": {},
   "outputs": [],
   "source": [
    "plt.hist(data)\n"
   ]
  },
  {
   "cell_type": "code",
   "execution_count": null,
   "id": "3fc8c4a8",
   "metadata": {},
   "outputs": [],
   "source": [
    "plt.hist(data['size_category'])"
   ]
  },
  {
   "cell_type": "code",
   "execution_count": null,
   "id": "b67a7cc6",
   "metadata": {},
   "outputs": [],
   "source": [
    "plt.hist(data['area'])"
   ]
  },
  {
   "cell_type": "code",
   "execution_count": null,
   "id": "92d9434a",
   "metadata": {},
   "outputs": [],
   "source": [
    "plt.hist(data['wind'])"
   ]
  },
  {
   "cell_type": "code",
   "execution_count": null,
   "id": "e27a2b94",
   "metadata": {},
   "outputs": [],
   "source": [
    "plt.hist(data['temp'])"
   ]
  },
  {
   "cell_type": "code",
   "execution_count": null,
   "id": "aa030f95",
   "metadata": {},
   "outputs": [],
   "source": [
    "data['size_category']==pd.get_dummies(data['size_category'])"
   ]
  },
  {
   "cell_type": "code",
   "execution_count": null,
   "id": "4666eb75",
   "metadata": {},
   "outputs": [],
   "source": [
    "data['size_category'].value_counts()"
   ]
  },
  {
   "cell_type": "code",
   "execution_count": null,
   "id": "fd7738aa",
   "metadata": {},
   "outputs": [],
   "source": [
    "def norm_data(i):\n",
    "    x=((i-i.min())/(i.max()-i.min()))\n",
    "    return x\n",
    "normalized_data=norm_data(data.iloc[:,2:-1])\n",
    "normalized_data\n",
    "    "
   ]
  },
  {
   "cell_type": "code",
   "execution_count": null,
   "id": "ca8c6173",
   "metadata": {},
   "outputs": [],
   "source": [
    "x=normalized_data\n",
    "y=data['size_category']"
   ]
  },
  {
   "cell_type": "code",
   "execution_count": null,
   "id": "18f42ba0",
   "metadata": {},
   "outputs": [],
   "source": [
    "x.head()"
   ]
  },
  {
   "cell_type": "code",
   "execution_count": null,
   "id": "798ffbd0",
   "metadata": {},
   "outputs": [],
   "source": [
    "y.head()"
   ]
  },
  {
   "cell_type": "code",
   "execution_count": null,
   "id": "319cc9c7",
   "metadata": {},
   "outputs": [],
   "source": [
    "X_train,X_test,y_train,y_test=train_test_split(x,y,test_size=0.3,random_state=42)"
   ]
  },
  {
   "cell_type": "code",
   "execution_count": null,
   "id": "2aca68b8",
   "metadata": {},
   "outputs": [],
   "source": [
    "n_features=x.shape[1]\n",
    "n_features"
   ]
  },
  {
   "cell_type": "code",
   "execution_count": null,
   "id": "0c8086d9",
   "metadata": {},
   "outputs": [],
   "source": [
    "optmizer =RMSprop(0.001)#0.01 is a learning rate\n",
    "model =keras.Sequential([\n",
    "    keras.layers.Dense(12,input_dim =28,activation='relu'),\n",
    "    keras.layers.Dense(50,activation ='sigmoid'),\n",
    "    keras.layers.Dense(1,activation='sigmoid')\n",
    "])\n",
    "model.compile(optimizer =optmizer,loss= 'binary_crossentropy',metrics =['accuracy'])"
   ]
  },
  {
   "cell_type": "code",
   "execution_count": null,
   "id": "b4ff67b6",
   "metadata": {},
   "outputs": [],
   "source": [
    "seed_val =42\n",
    "random.seed(seed_val)\n",
    "tf.random.set_seed(seed_val)\n",
    "model.fit(X_train,y_train,epochs =10,batch_size=20,verbose=1)"
   ]
  },
  {
   "cell_type": "code",
   "execution_count": null,
   "id": "a4c72a64",
   "metadata": {},
   "outputs": [],
   "source": [
    "model.evaluate(X_test,y_test)"
   ]
  }
 ],
 "metadata": {
  "kernelspec": {
   "display_name": "Python 3 (ipykernel)",
   "language": "python",
   "name": "python3"
  },
  "language_info": {
   "codemirror_mode": {
    "name": "ipython",
    "version": 3
   },
   "file_extension": ".py",
   "mimetype": "text/x-python",
   "name": "python",
   "nbconvert_exporter": "python",
   "pygments_lexer": "ipython3",
   "version": "3.9.13"
  }
 },
 "nbformat": 4,
 "nbformat_minor": 5
}
